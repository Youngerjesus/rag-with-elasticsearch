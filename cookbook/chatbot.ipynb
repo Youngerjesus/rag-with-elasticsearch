{
 "cells": [
  {
   "cell_type": "code",
   "execution_count": 3,
   "metadata": {},
   "outputs": [
    {
     "name": "stdout",
     "output_type": "stream",
     "text": [
      "Requirement already satisfied: langchain_community in /Users/jeongmin/PycharmProjects/python-skills-bootcamp/.venv/lib/python3.9/site-packages (0.2.10)\n",
      "Requirement already satisfied: openai in /Users/jeongmin/PycharmProjects/python-skills-bootcamp/.venv/lib/python3.9/site-packages (1.38.0)\n",
      "Requirement already satisfied: elasticsearch in /Users/jeongmin/PycharmProjects/python-skills-bootcamp/.venv/lib/python3.9/site-packages (8.14.0)\n",
      "Requirement already satisfied: tiktoken in /Users/jeongmin/PycharmProjects/python-skills-bootcamp/.venv/lib/python3.9/site-packages (0.7.0)\n",
      "Requirement already satisfied: langchain_elasticsearch in /Users/jeongmin/PycharmProjects/python-skills-bootcamp/.venv/lib/python3.9/site-packages (0.2.2)\n",
      "Requirement already satisfied: langchain_openai in /Users/jeongmin/PycharmProjects/python-skills-bootcamp/.venv/lib/python3.9/site-packages (0.1.20)\n",
      "Requirement already satisfied: cohere in /Users/jeongmin/PycharmProjects/python-skills-bootcamp/.venv/lib/python3.9/site-packages (5.6.2)\n",
      "Requirement already satisfied: python-dotenv in /Users/jeongmin/PycharmProjects/python-skills-bootcamp/.venv/lib/python3.9/site-packages (1.0.1)\n",
      "Requirement already satisfied: PyYAML>=5.3 in /Users/jeongmin/PycharmProjects/python-skills-bootcamp/.venv/lib/python3.9/site-packages (from langchain_community) (6.0.1)\n",
      "Requirement already satisfied: SQLAlchemy<3,>=1.4 in /Users/jeongmin/PycharmProjects/python-skills-bootcamp/.venv/lib/python3.9/site-packages (from langchain_community) (2.0.31)\n",
      "Requirement already satisfied: aiohttp<4.0.0,>=3.8.3 in /Users/jeongmin/PycharmProjects/python-skills-bootcamp/.venv/lib/python3.9/site-packages (from langchain_community) (3.10.0)\n",
      "Requirement already satisfied: dataclasses-json<0.7,>=0.5.7 in /Users/jeongmin/PycharmProjects/python-skills-bootcamp/.venv/lib/python3.9/site-packages (from langchain_community) (0.6.7)\n",
      "Requirement already satisfied: langchain<0.3.0,>=0.2.9 in /Users/jeongmin/PycharmProjects/python-skills-bootcamp/.venv/lib/python3.9/site-packages (from langchain_community) (0.2.12)\n",
      "Requirement already satisfied: langchain-core<0.3.0,>=0.2.23 in /Users/jeongmin/PycharmProjects/python-skills-bootcamp/.venv/lib/python3.9/site-packages (from langchain_community) (0.2.27)\n",
      "Requirement already satisfied: langsmith<0.2.0,>=0.1.0 in /Users/jeongmin/PycharmProjects/python-skills-bootcamp/.venv/lib/python3.9/site-packages (from langchain_community) (0.1.96)\n",
      "Requirement already satisfied: numpy<2,>=1 in /Users/jeongmin/PycharmProjects/python-skills-bootcamp/.venv/lib/python3.9/site-packages (from langchain_community) (1.26.4)\n",
      "Requirement already satisfied: requests<3,>=2 in /Users/jeongmin/PycharmProjects/python-skills-bootcamp/.venv/lib/python3.9/site-packages (from langchain_community) (2.32.3)\n",
      "Requirement already satisfied: tenacity!=8.4.0,<9.0.0,>=8.1.0 in /Users/jeongmin/PycharmProjects/python-skills-bootcamp/.venv/lib/python3.9/site-packages (from langchain_community) (8.5.0)\n",
      "Requirement already satisfied: anyio<5,>=3.5.0 in /Users/jeongmin/PycharmProjects/python-skills-bootcamp/.venv/lib/python3.9/site-packages (from openai) (4.4.0)\n",
      "Requirement already satisfied: distro<2,>=1.7.0 in /Users/jeongmin/PycharmProjects/python-skills-bootcamp/.venv/lib/python3.9/site-packages (from openai) (1.9.0)\n",
      "Requirement already satisfied: httpx<1,>=0.23.0 in /Users/jeongmin/PycharmProjects/python-skills-bootcamp/.venv/lib/python3.9/site-packages (from openai) (0.27.0)\n",
      "Requirement already satisfied: pydantic<3,>=1.9.0 in /Users/jeongmin/PycharmProjects/python-skills-bootcamp/.venv/lib/python3.9/site-packages (from openai) (2.8.2)\n",
      "Requirement already satisfied: sniffio in /Users/jeongmin/PycharmProjects/python-skills-bootcamp/.venv/lib/python3.9/site-packages (from openai) (1.3.1)\n",
      "Requirement already satisfied: tqdm>4 in /Users/jeongmin/PycharmProjects/python-skills-bootcamp/.venv/lib/python3.9/site-packages (from openai) (4.66.4)\n",
      "Requirement already satisfied: typing-extensions<5,>=4.7 in /Users/jeongmin/PycharmProjects/python-skills-bootcamp/.venv/lib/python3.9/site-packages (from openai) (4.12.2)\n",
      "Requirement already satisfied: elastic-transport<9,>=8.13 in /Users/jeongmin/PycharmProjects/python-skills-bootcamp/.venv/lib/python3.9/site-packages (from elasticsearch) (8.13.1)\n",
      "Requirement already satisfied: regex>=2022.1.18 in /Users/jeongmin/PycharmProjects/python-skills-bootcamp/.venv/lib/python3.9/site-packages (from tiktoken) (2024.5.15)\n",
      "Requirement already satisfied: boto3<2.0.0,>=1.34.0 in /Users/jeongmin/PycharmProjects/python-skills-bootcamp/.venv/lib/python3.9/site-packages (from cohere) (1.34.153)\n",
      "Requirement already satisfied: fastavro<2.0.0,>=1.9.4 in /Users/jeongmin/PycharmProjects/python-skills-bootcamp/.venv/lib/python3.9/site-packages (from cohere) (1.9.5)\n",
      "Requirement already satisfied: httpx-sse<0.5.0,>=0.4.0 in /Users/jeongmin/PycharmProjects/python-skills-bootcamp/.venv/lib/python3.9/site-packages (from cohere) (0.4.0)\n",
      "Requirement already satisfied: parameterized<0.10.0,>=0.9.0 in /Users/jeongmin/PycharmProjects/python-skills-bootcamp/.venv/lib/python3.9/site-packages (from cohere) (0.9.0)\n",
      "Requirement already satisfied: tokenizers<1,>=0.15 in /Users/jeongmin/PycharmProjects/python-skills-bootcamp/.venv/lib/python3.9/site-packages (from cohere) (0.19.1)\n",
      "Requirement already satisfied: types-requests<3.0.0,>=2.0.0 in /Users/jeongmin/PycharmProjects/python-skills-bootcamp/.venv/lib/python3.9/site-packages (from cohere) (2.31.0.6)\n",
      "Requirement already satisfied: aiohappyeyeballs>=2.3.0 in /Users/jeongmin/PycharmProjects/python-skills-bootcamp/.venv/lib/python3.9/site-packages (from aiohttp<4.0.0,>=3.8.3->langchain_community) (2.3.4)\n",
      "Requirement already satisfied: aiosignal>=1.1.2 in /Users/jeongmin/PycharmProjects/python-skills-bootcamp/.venv/lib/python3.9/site-packages (from aiohttp<4.0.0,>=3.8.3->langchain_community) (1.3.1)\n",
      "Requirement already satisfied: attrs>=17.3.0 in /Users/jeongmin/PycharmProjects/python-skills-bootcamp/.venv/lib/python3.9/site-packages (from aiohttp<4.0.0,>=3.8.3->langchain_community) (23.2.0)\n",
      "Requirement already satisfied: frozenlist>=1.1.1 in /Users/jeongmin/PycharmProjects/python-skills-bootcamp/.venv/lib/python3.9/site-packages (from aiohttp<4.0.0,>=3.8.3->langchain_community) (1.4.1)\n",
      "Requirement already satisfied: multidict<7.0,>=4.5 in /Users/jeongmin/PycharmProjects/python-skills-bootcamp/.venv/lib/python3.9/site-packages (from aiohttp<4.0.0,>=3.8.3->langchain_community) (6.0.5)\n",
      "Requirement already satisfied: yarl<2.0,>=1.0 in /Users/jeongmin/PycharmProjects/python-skills-bootcamp/.venv/lib/python3.9/site-packages (from aiohttp<4.0.0,>=3.8.3->langchain_community) (1.9.4)\n",
      "Requirement already satisfied: async-timeout<5.0,>=4.0 in /Users/jeongmin/PycharmProjects/python-skills-bootcamp/.venv/lib/python3.9/site-packages (from aiohttp<4.0.0,>=3.8.3->langchain_community) (4.0.3)\n",
      "Requirement already satisfied: idna>=2.8 in /Users/jeongmin/PycharmProjects/python-skills-bootcamp/.venv/lib/python3.9/site-packages (from anyio<5,>=3.5.0->openai) (3.7)\n",
      "Requirement already satisfied: exceptiongroup>=1.0.2 in /Users/jeongmin/PycharmProjects/python-skills-bootcamp/.venv/lib/python3.9/site-packages (from anyio<5,>=3.5.0->openai) (1.2.1)\n",
      "Requirement already satisfied: botocore<1.35.0,>=1.34.153 in /Users/jeongmin/PycharmProjects/python-skills-bootcamp/.venv/lib/python3.9/site-packages (from boto3<2.0.0,>=1.34.0->cohere) (1.34.153)\n",
      "Requirement already satisfied: jmespath<2.0.0,>=0.7.1 in /Users/jeongmin/PycharmProjects/python-skills-bootcamp/.venv/lib/python3.9/site-packages (from boto3<2.0.0,>=1.34.0->cohere) (1.0.1)\n",
      "Requirement already satisfied: s3transfer<0.11.0,>=0.10.0 in /Users/jeongmin/PycharmProjects/python-skills-bootcamp/.venv/lib/python3.9/site-packages (from boto3<2.0.0,>=1.34.0->cohere) (0.10.2)\n",
      "Requirement already satisfied: marshmallow<4.0.0,>=3.18.0 in /Users/jeongmin/PycharmProjects/python-skills-bootcamp/.venv/lib/python3.9/site-packages (from dataclasses-json<0.7,>=0.5.7->langchain_community) (3.21.3)\n",
      "Requirement already satisfied: typing-inspect<1,>=0.4.0 in /Users/jeongmin/PycharmProjects/python-skills-bootcamp/.venv/lib/python3.9/site-packages (from dataclasses-json<0.7,>=0.5.7->langchain_community) (0.9.0)\n",
      "Requirement already satisfied: urllib3<3,>=1.26.2 in /Users/jeongmin/PycharmProjects/python-skills-bootcamp/.venv/lib/python3.9/site-packages (from elastic-transport<9,>=8.13->elasticsearch) (1.26.19)\n",
      "Requirement already satisfied: certifi in /Users/jeongmin/PycharmProjects/python-skills-bootcamp/.venv/lib/python3.9/site-packages (from elastic-transport<9,>=8.13->elasticsearch) (2024.6.2)\n",
      "\u001b[33mWARNING: elasticsearch 8.14.0 does not provide the extra 'vectorstore-mmr'\u001b[0m\u001b[33m\n",
      "\u001b[0mRequirement already satisfied: httpcore==1.* in /Users/jeongmin/PycharmProjects/python-skills-bootcamp/.venv/lib/python3.9/site-packages (from httpx<1,>=0.23.0->openai) (1.0.5)\n",
      "Requirement already satisfied: h11<0.15,>=0.13 in /Users/jeongmin/PycharmProjects/python-skills-bootcamp/.venv/lib/python3.9/site-packages (from httpcore==1.*->httpx<1,>=0.23.0->openai) (0.14.0)\n",
      "Requirement already satisfied: langchain-text-splitters<0.3.0,>=0.2.0 in /Users/jeongmin/PycharmProjects/python-skills-bootcamp/.venv/lib/python3.9/site-packages (from langchain<0.3.0,>=0.2.9->langchain_community) (0.2.2)\n",
      "Requirement already satisfied: jsonpatch<2.0,>=1.33 in /Users/jeongmin/PycharmProjects/python-skills-bootcamp/.venv/lib/python3.9/site-packages (from langchain-core<0.3.0,>=0.2.23->langchain_community) (1.33)\n",
      "Requirement already satisfied: packaging<25,>=23.2 in /Users/jeongmin/PycharmProjects/python-skills-bootcamp/.venv/lib/python3.9/site-packages (from langchain-core<0.3.0,>=0.2.23->langchain_community) (24.1)\n",
      "Requirement already satisfied: orjson<4.0.0,>=3.9.14 in /Users/jeongmin/PycharmProjects/python-skills-bootcamp/.venv/lib/python3.9/site-packages (from langsmith<0.2.0,>=0.1.0->langchain_community) (3.10.6)\n",
      "Requirement already satisfied: annotated-types>=0.4.0 in /Users/jeongmin/PycharmProjects/python-skills-bootcamp/.venv/lib/python3.9/site-packages (from pydantic<3,>=1.9.0->openai) (0.7.0)\n",
      "Requirement already satisfied: pydantic-core==2.20.1 in /Users/jeongmin/PycharmProjects/python-skills-bootcamp/.venv/lib/python3.9/site-packages (from pydantic<3,>=1.9.0->openai) (2.20.1)\n",
      "Requirement already satisfied: charset-normalizer<4,>=2 in /Users/jeongmin/PycharmProjects/python-skills-bootcamp/.venv/lib/python3.9/site-packages (from requests<3,>=2->langchain_community) (3.3.2)\n",
      "Requirement already satisfied: huggingface-hub<1.0,>=0.16.4 in /Users/jeongmin/PycharmProjects/python-skills-bootcamp/.venv/lib/python3.9/site-packages (from tokenizers<1,>=0.15->cohere) (0.23.4)\n",
      "Requirement already satisfied: types-urllib3 in /Users/jeongmin/PycharmProjects/python-skills-bootcamp/.venv/lib/python3.9/site-packages (from types-requests<3.0.0,>=2.0.0->cohere) (1.26.25.14)\n",
      "Requirement already satisfied: python-dateutil<3.0.0,>=2.1 in /Users/jeongmin/PycharmProjects/python-skills-bootcamp/.venv/lib/python3.9/site-packages (from botocore<1.35.0,>=1.34.153->boto3<2.0.0,>=1.34.0->cohere) (2.9.0.post0)\n",
      "Requirement already satisfied: filelock in /Users/jeongmin/PycharmProjects/python-skills-bootcamp/.venv/lib/python3.9/site-packages (from huggingface-hub<1.0,>=0.16.4->tokenizers<1,>=0.15->cohere) (3.15.1)\n",
      "Requirement already satisfied: fsspec>=2023.5.0 in /Users/jeongmin/PycharmProjects/python-skills-bootcamp/.venv/lib/python3.9/site-packages (from huggingface-hub<1.0,>=0.16.4->tokenizers<1,>=0.15->cohere) (2024.6.0)\n",
      "Requirement already satisfied: jsonpointer>=1.9 in /Users/jeongmin/PycharmProjects/python-skills-bootcamp/.venv/lib/python3.9/site-packages (from jsonpatch<2.0,>=1.33->langchain-core<0.3.0,>=0.2.23->langchain_community) (3.0.0)\n",
      "Requirement already satisfied: mypy-extensions>=0.3.0 in /Users/jeongmin/PycharmProjects/python-skills-bootcamp/.venv/lib/python3.9/site-packages (from typing-inspect<1,>=0.4.0->dataclasses-json<0.7,>=0.5.7->langchain_community) (1.0.0)\n",
      "Requirement already satisfied: six>=1.5 in /Users/jeongmin/PycharmProjects/python-skills-bootcamp/.venv/lib/python3.9/site-packages (from python-dateutil<3.0.0,>=2.1->botocore<1.35.0,>=1.34.153->boto3<2.0.0,>=1.34.0->cohere) (1.16.0)\n",
      "\n",
      "\u001b[1m[\u001b[0m\u001b[34;49mnotice\u001b[0m\u001b[1;39;49m]\u001b[0m\u001b[39;49m A new release of pip is available: \u001b[0m\u001b[31;49m24.0\u001b[0m\u001b[39;49m -> \u001b[0m\u001b[32;49m24.2\u001b[0m\n",
      "\u001b[1m[\u001b[0m\u001b[34;49mnotice\u001b[0m\u001b[1;39;49m]\u001b[0m\u001b[39;49m To update, run: \u001b[0m\u001b[32;49mpip install --upgrade pip\u001b[0m\n",
      "Note: you may need to restart the kernel to use updated packages.\n"
     ]
    }
   ],
   "source": [
    "%pip install langchain_community openai elasticsearch tiktoken langchain_elasticsearch langchain_openai cohere python-dotenv"
   ]
  },
  {
   "cell_type": "markdown",
   "metadata": {},
   "source": [
    "## Chatbot Implementation \n",
    "\n",
    "This section of the tutorial discusses the most interesting aspects of the chatbot implementation, to help you understand it and customize it.\n",
    "\n"
   ]
  },
  {
   "cell_type": "markdown",
   "metadata": {},
   "source": [
    "## Ingest\n",
    "\n"
   ]
  },
  {
   "cell_type": "code",
   "execution_count": 4,
   "metadata": {},
   "outputs": [],
   "source": [
    "class Search: \n",
    "    def __init__(self, es_client, model_id, index):\n",
    "        self.es = es_client\n",
    "        self.model_id = model_id\n",
    "        self.index = index\n",
    "        print('Created to Elasticsearch! successfully')\n",
    "\n",
    "    def sparse_search_default(self, query, top_k=5): \n",
    "        search_query = {\n",
    "            \"bool\": {\n",
    "                \"must\": [\n",
    "                    {\n",
    "                        \"text_expansion\": {\n",
    "                            f\"text_embedding\": {\n",
    "                                \"model_id\": self.model_id,\n",
    "                                \"model_text\": query,\n",
    "                            }\n",
    "                        }\n",
    "                    }\n",
    "                ]\n",
    "            }\n",
    "        }\n",
    "        \n",
    "        response = self.es.search(\n",
    "            index=self.index, \n",
    "            query=search_query, \n",
    "            size=top_k\n",
    "        )\n",
    "        \n",
    "        def extract_info(hit):\n",
    "            source = hit[\"_source\"]\n",
    "            return {\n",
    "                \"id\": hit[\"_id\"],\n",
    "                \"index\": hit[\"_index\"],\n",
    "                \"score\": hit[\"_score\"],\n",
    "                \"column1\": source.get(\"column1\"),\n",
    "                \"column2\": source.get(\"column2\"),\n",
    "                \"model_id\": source.get(\"model_id\")\n",
    "            }\n",
    "        \n",
    "        results = [extract_info(hit) for hit in response[\"hits\"][\"hits\"]]\n",
    "\n",
    "        return results\n"
   ]
  },
  {
   "cell_type": "code",
   "execution_count": 2,
   "metadata": {},
   "outputs": [
    {
     "data": {
      "text/plain": [
       "'35e14e0f2e12492e832ab6a800d0b2c1:dXMtY2VudHJhbDEuZ2NwLmNsb3VkLmVzLmlvJGNmYjVlMzZkMzhjMjRhODA4NTA4NzgyNDRmOTNjMjg0JGYyNDFiNzhiMDY5MjQ4NzFhY2RkZmFiOWMyMzg5MTdl'"
      ]
     },
     "execution_count": 2,
     "metadata": {},
     "output_type": "execute_result"
    }
   ],
   "source": []
  },
  {
   "cell_type": "code",
   "execution_count": 3,
   "metadata": {},
   "outputs": [
    {
     "ename": "NameError",
     "evalue": "name 'Search' is not defined",
     "output_type": "error",
     "traceback": [
      "\u001b[0;31m---------------------------------------------------------------------------\u001b[0m",
      "\u001b[0;31mNameError\u001b[0m                                 Traceback (most recent call last)",
      "Cell \u001b[0;32mIn[3], line 52\u001b[0m\n\u001b[1;32m     40\u001b[0m     \u001b[38;5;28;01mreturn\u001b[39;00m split_docs\n\u001b[1;32m     43\u001b[0m \u001b[38;5;66;03m# write documents stored in \"docs\" to the index\u001b[39;00m\n\u001b[1;32m     44\u001b[0m \u001b[38;5;66;03m# langchain version of ES \u001b[39;00m\n\u001b[1;32m     45\u001b[0m \u001b[38;5;66;03m# store = ElasticsearchStore(\u001b[39;00m\n\u001b[0;32m   (...)\u001b[0m\n\u001b[1;32m     48\u001b[0m \u001b[38;5;66;03m#     strategy=ElasticsearchStore.SparseVectorRetrievalStrategy(model_id=ELSER_MODEL), \u001b[39;00m\n\u001b[1;32m     49\u001b[0m \u001b[38;5;66;03m# )\u001b[39;00m\n\u001b[0;32m---> 52\u001b[0m search \u001b[38;5;241m=\u001b[39m \u001b[43mSearch\u001b[49m(elasticsearch_client, ELSER_MODEL, INDEX)\n",
      "\u001b[0;31mNameError\u001b[0m: name 'Search' is not defined"
     ]
    }
   ],
   "source": [
    "from elasticsearch import Elasticsearch, NotFoundError\n",
    "from langchain_elasticsearch import ElasticsearchStore\n",
    "from langchain.docstore.document import Document\n",
    "from langchain.text_splitter import RecursiveCharacterTextSplitter\n",
    "from langchain_elasticsearch import DenseVectorStrategy\n",
    "import os \n",
    "from dotenv import load_dotenv\n",
    "\n",
    "load_dotenv(override=True)\n",
    "\n",
    "\n",
    "\n",
    "INDEX = \"chatbot-rag-v2\"\n",
    "ELASTICSEARCH_URL = os.getenv(\"ELASTICSEARCH_URL\")\n",
    "ELASTIC_CLOUD_ID = os.getenv(\"ELASTIC_CLOUD_ID\")\n",
    "ELASTIC_API_KEY = os.getenv(\"ELASTIC_API_KEY\")\n",
    "ELSER_MODEL = os.getenv(\"ELSER_MODEL\")\n",
    "\n",
    "text_splitter = RecursiveCharacterTextSplitter.from_tiktoken_encoder(\n",
    "    chunk_size=512, chunk_overlap=256\n",
    ")\n",
    "\n",
    "# elasticsearch_client = Elasticsearch(\n",
    "#     [ES_HOST],\n",
    "#     basic_auth=(ES_USER, ES_PASSWORD),\n",
    "#     ssl_context=ssl_context     \n",
    "# )\n",
    "\n",
    "elasticsearch_client = Elasticsearch(cloud_id=ELASTIC_CLOUD_ID, api_key=ELASTIC_API_KEY)\n",
    "\n",
    "# load docs \n",
    "def load_docs(): \n",
    "    split_docs = [] \n",
    "\n",
    "    with open('data.json', 'rt') as f:\n",
    "        documents = json.loads(f.read())\n",
    "        docs = [Document(page_content=doc['content']) for doc in documents[:20]]\n",
    "        split_docs = text_splitter.transform_documents(docs)\n",
    "\n",
    "    return split_docs\n",
    "\n",
    "\n",
    "# write documents stored in \"docs\" to the index\n",
    "# langchain version of ES \n",
    "# store = ElasticsearchStore(\n",
    "#     es_connection=elasticsearch_client,\n",
    "#     index_name=INDEX,\n",
    "#     strategy=ElasticsearchStore.SparseVectorRetrievalStrategy(model_id=ELSER_MODEL), \n",
    "# )\n",
    "\n",
    "\n",
    "search = Search(elasticsearch_client, ELSER_MODEL, INDEX)"
   ]
  },
  {
   "cell_type": "code",
   "execution_count": 6,
   "metadata": {},
   "outputs": [
    {
     "data": {
      "text/plain": [
       "['The severity of soreness you experience depends on the type of stress placed on the muscle. Exercise with a strong eccentric component, for example, running downhill, is shown to increase the chance of DOMS, which can last up to 5 days post workout.OMS occurs within hours or days after your workout and often causes tenderness, swelling, and stiffness in the joints. Starting recovery immediately after your workout can greatly reduce muscle soreness and fatigue, and have you well on your way to a stronger, healthier body. Here is what we suggest. Water.',\n",
       " 'While you can’t avoid muscle soreness completely as a runner, there are things you can do to lessen it. When you think of treatments for muscles recently beat up by the roads, you probably think of things such as ice baths, massage, topical analgesics and anti-inflammatory medications.',\n",
       " \"Your muscles might feel sore after a run or overdoing it at the gym, particularly if you don't normally exercise as rigorously. This occurs due to muscle damage and the buildup of natural waste products in your cells. Eating the right foods before and after physical activity can help your muscles heal faster, ease soreness and pain and even protect against muscle damage in the first place.\",\n",
       " \"Ice after a run. I ice my knees religiously because they tend to get sore. If you have any muscle area that will get sore on occasion, ice it. Our team later in the season runs to a nearby lake and stands in the cool water for 15 minutes.uscle Soreness From Running-Causes and Treatment. Muscle soreness from running is a good thing. I know it doesn't feel real good, but it means your improving. I remember during my years of intense training in high school and college I even enjoyed that feeling in my legs. It may sound strange, but it is an acquired taste.\",\n",
       " 'There are a few foods and food groups that will help to fight inflammation and delayed onset muscle soreness (both things that are inevitable after a long, hard workout) when you incorporate them into your postworkout eats, whether immediately after your run or at a meal later in the day. Advertisement. Advertisement.']"
      ]
     },
     "execution_count": 6,
     "metadata": {},
     "output_type": "execute_result"
    }
   ],
   "source": [
    "question = \"How to avoid muscle soreness after running?\"\n",
    "\n",
    "results = search.sparse_search_default(question, top_k=5)\n",
    "\n",
    "[result[\"column2\"] for result in results]"
   ]
  },
  {
   "cell_type": "code",
   "execution_count": 10,
   "metadata": {},
   "outputs": [],
   "source": [
    "from langchain_core.prompts import ChatPromptTemplate\n",
    "\n",
    "ANSWER_PROMPT_TEMPLATE = ChatPromptTemplate.from_template(\n",
    "\"\"\" \n",
    "당신은 지식 기반 질의응답 시스템입니다. 여러 문서와 질문을 바탕으로 정확하고 도움이 되는 답변을 제공해야 합니다.\n",
    "\n",
    "아래 형식으로 여러 문서와 질문이 제공될 것입니다:\n",
    "\n",
    "질문: {question}\n",
    "\n",
    "문서 Lists: \n",
    "{docs}\n",
    "\n",
    "\n",
    "다음 지침을 따르세요:\n",
    "\n",
    "1. 제공된 모든 문서를 주의 깊게 읽고 분석하세요.\n",
    "\n",
    "2. 주어진 질문을 꼼꼼히 검토하세요.\n",
    "\n",
    "3. 질문과 가장 관련 있는 문서들을 선별하세요. 질문과 관련 없는 문서는 무시하세요.\n",
    "\n",
    "4. 관련 문서의 정보를 바탕으로 질문에 대한 명확하고 간결한 답변을 작성하세요.\n",
    "\n",
    "5. 답변은 반드시 제공된 문서들의 내용에 기반해야 합니다. 문서에 없는 정보로 추측하지 마세요.\n",
    "\n",
    "6. 여러 문서에서 정보를 종합하여 답변할 수 있습니다. 이 경우, 정보 간의 일관성을 확인하세요.\n",
    "\n",
    "7. 문서들 간에 상충되는 정보가 있다면, 그 사실을 언급하고 가장 신뢰할 만한 정보를 중심으로 답변하세요.\n",
    "\n",
    "8. 필요한 경우 특정 문서의 내용을 인용하거나 참조하세요. 이때 어떤 문서에서 정보를 가져왔는지 명시하세요.\n",
    "\n",
    "9. 모든 문서가 질문과 관련이 없다면, \"제공된 문서에서 질문에 대한 관련 정보를 찾을 수 없습니다.\"라고 답변하세요.\n",
    "\n",
    "10. 답변 끝에 \"추가 질문이 있으시면 언제든 물어보세요.\"라고 덧붙이세요.\n",
    "\n",
    "답변 시 항상 공손하고 전문적인 톤을 유지하세요. 이제 주어진 문서들과 질문에 답하실 준비가 되었습니다.\n",
    "\"\"\"\n",
    ")\n",
    "\n"
   ]
  },
  {
   "cell_type": "code",
   "execution_count": 29,
   "metadata": {},
   "outputs": [],
   "source": [
    "from langchain_openai import ChatOpenAI\n",
    "from typing import List\n",
    "\n",
    "question = \"How to avoid muscle soreness after running?\"\n",
    "\n",
    "def format_docs(docs: List) -> str:\n",
    "    '''Format the docs.'''\n",
    "    return \"\\n\\n\".join([f\"문서{i+1}: {doc['column2']}\" for i, doc in enumerate(docs)]) \n",
    "\n",
    "llm = ChatOpenAI(model=\"gpt-4o\", temperature=0)\n",
    "\n",
    "\n",
    "prompt = ANSWER_PROMPT_TEMPLATE.format(\n",
    "    question=question,\n",
    "    docs=format_docs(results)\n",
    ")\n",
    "\n",
    "response = llm.invoke(prompt)"
   ]
  },
  {
   "cell_type": "code",
   "execution_count": 30,
   "metadata": {},
   "outputs": [
    {
     "data": {
      "text/html": [
       "\n",
       "<div style=\"font-family: Arial, sans-serif; max-width: 800px; margin: auto; line-height: 1.6;\">\n",
       "    <h2 style=\"color: #333;\">AI 응답</h2>\n",
       "    <div style=\"border-left: 5px solid #4CAF50; padding: 10px;\">\n",
       "        질문: How to avoid muscle soreness after running?</p><p>문서 Lists: <br>문서1: The severity of soreness you experience depends on the type of stress placed on the muscle. Exercise with a strong eccentric component, for example, running downhill, is shown to increase the chance of DOMS, which can last up to 5 days post workout.OMS occurs within hours or days after your workout and often causes tenderness, swelling, and stiffness in the joints. Starting recovery immediately after your workout can greatly reduce muscle soreness and fatigue, and have you well on your way to a stronger, healthier body. Here is what we suggest. Water.<br>문서2: While you can’t avoid muscle soreness completely as a runner, there are things you can do to lessen it. When you think of treatments for muscles recently beat up by the roads, you probably think of things such as ice baths, massage, topical analgesics and anti-inflammatory medications.<br>문서3: Your muscles might feel sore after a run or overdoing it at the gym, particularly if you don't normally exercise as rigorously. This occurs due to muscle damage and the buildup of natural waste products in your cells. Eating the right foods before and after physical activity can help your muscles heal faster, ease soreness and pain and even protect against muscle damage in the first place.<br>문서4: Ice after a run. I ice my knees religiously because they tend to get sore. If you have any muscle area that will get sore on occasion, ice it. Our team later in the season runs to a nearby lake and stands in the cool water for 15 minutes.uscle Soreness From Running-Causes and Treatment. Muscle soreness from running is a good thing. I know it doesn't feel real good, but it means your improving. I remember during my years of intense training in high school and college I even enjoyed that feeling in my legs. It may sound strange, but it is an acquired taste.<br>문서5: There are a few foods and food groups that will help to fight inflammation and delayed onset muscle soreness (both things that are inevitable after a long, hard workout) when you incorporate them into your postworkout eats, whether immediately after your run or at a meal later in the day. Advertisement. Advertisement.</p><p>답변:<br>근육통을 완전히 피할 수는 없지만, 다음과 같은 방법으로 줄일 수 있습니다:</p><p>1. **즉각적인 회복 시작**: 운동 후 즉시 회복을 시작하는 것이 중요합니다. 물을 충분히 마시는 것이 도움이 됩니다. (문서1)<br>2. **얼음찜질**: 운동 후 얼음찜질을 하면 근육통을 줄일 수 있습니다. 특히 무릎이나 자주 아픈 부위에 얼음을 대는 것이 좋습니다. (문서2, 문서4)<br>3. **마사지와 항염증제**: 마사지와 항염증제를 사용하면 근육통을 완화할 수 있습니다. (문서2)<br>4. **적절한 음식 섭취**: 운동 전후에 적절한 음식을 섭취하면 근육 회복을 돕고 통증을 줄일 수 있습니다. (문서3, 문서5)</p><p>추가 질문이 있으시면 언제든 물어보세요.\n",
       "    </div>\n",
       "</div>\n"
      ],
      "text/plain": [
       "<IPython.core.display.HTML object>"
      ]
     },
     "execution_count": 30,
     "metadata": {},
     "output_type": "execute_result"
    }
   ],
   "source": [
    "import pprint\n",
    "from IPython.display import HTML\n",
    "\n",
    "\n",
    "def format_content(content):\n",
    "    # 줄바꿈 처리를 미리 수행합니다.\n",
    "    formatted_content = content.replace('\\n\\n', '</p><p>').replace('\\n', '<br>')\n",
    "    return formatted_content\n",
    "\n",
    "# response 객체가 있다고 가정합니다. 실제 환경에 맞게 이 부분을 조정하세요.\n",
    "response_content = format_content(response.content)\n",
    "\n",
    "html_content = f'''\n",
    "<div style=\"font-family: Arial, sans-serif; max-width: 800px; margin: auto; line-height: 1.6;\">\n",
    "    <h2 style=\"color: #333;\">AI 응답</h2>\n",
    "    <div style=\"border-left: 5px solid #4CAF50; padding: 10px;\">\n",
    "        {response_content}\n",
    "    </div>\n",
    "</div>\n",
    "'''\n",
    "\n",
    "# HTML 표시\n",
    "HTML(html_content)"
   ]
  },
  {
   "cell_type": "markdown",
   "metadata": {},
   "source": []
  }
 ],
 "metadata": {
  "kernelspec": {
   "display_name": "Python 3.12.3 (venv)",
   "language": "python",
   "name": "venv"
  },
  "language_info": {
   "codemirror_mode": {
    "name": "ipython",
    "version": 3
   },
   "file_extension": ".py",
   "mimetype": "text/x-python",
   "name": "python",
   "nbconvert_exporter": "python",
   "pygments_lexer": "ipython3",
   "version": "3.9.6"
  }
 },
 "nbformat": 4,
 "nbformat_minor": 2
}
